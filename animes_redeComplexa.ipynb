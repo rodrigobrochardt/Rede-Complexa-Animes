{
  "nbformat": 4,
  "nbformat_minor": 0,
  "metadata": {
    "colab": {
      "name": "ProjetoPratico_RodrigoBrochardt.ipynb",
      "provenance": []
    },
    "kernelspec": {
      "name": "python3",
      "display_name": "Python 3"
    },
    "language_info": {
      "name": "python"
    }
  },
  "cells": [
    {
      "cell_type": "code",
      "metadata": {
        "colab": {
          "base_uri": "https://localhost:8080/"
        },
        "id": "I-_s0PD6ouNX",
        "outputId": "8027ff69-1130-4031-fb48-d7bcf720d8e2"
      },
      "source": [
        "from google.colab import drive\n",
        "import networkx as nx\n",
        "import matplotlib.pyplot as plt\n",
        "import numpy as np\n",
        "from google.colab import drive\n",
        "import pandas as pd\n",
        "from matplotlib.pyplot import figure\n",
        "\n",
        "\n",
        "drive.mount('/content/drive')"
      ],
      "execution_count": 1,
      "outputs": [
        {
          "output_type": "stream",
          "text": [
            "Mounted at /content/drive\n"
          ],
          "name": "stdout"
        }
      ]
    },
    {
      "cell_type": "markdown",
      "metadata": {
        "id": "uUk0emnXVk4S"
      },
      "source": [
        "# Importar arquivo do banco de dados Anime"
      ]
    },
    {
      "cell_type": "code",
      "metadata": {
        "id": "J7rDFtV7pH7S",
        "colab": {
          "base_uri": "https://localhost:8080/",
          "height": 202
        },
        "outputId": "229d8aa8-2b4a-452c-ffff-8be08deb1cc6"
      },
      "source": [
        "df = pd.read_csv('/content/drive/MyDrive/animes.csv')\n",
        "\n",
        "df.loc[df['uid'] == 1333] #hub do grafo"
      ],
      "execution_count": 2,
      "outputs": [
        {
          "output_type": "execute_result",
          "data": {
            "text/html": [
              "<div>\n",
              "<style scoped>\n",
              "    .dataframe tbody tr th:only-of-type {\n",
              "        vertical-align: middle;\n",
              "    }\n",
              "\n",
              "    .dataframe tbody tr th {\n",
              "        vertical-align: top;\n",
              "    }\n",
              "\n",
              "    .dataframe thead th {\n",
              "        text-align: right;\n",
              "    }\n",
              "</style>\n",
              "<table border=\"1\" class=\"dataframe\">\n",
              "  <thead>\n",
              "    <tr style=\"text-align: right;\">\n",
              "      <th></th>\n",
              "      <th>uid</th>\n",
              "      <th>title</th>\n",
              "      <th>synopsis</th>\n",
              "      <th>genre</th>\n",
              "      <th>aired</th>\n",
              "      <th>episodes</th>\n",
              "      <th>members</th>\n",
              "      <th>popularity</th>\n",
              "      <th>ranked</th>\n",
              "      <th>score</th>\n",
              "      <th>img_url</th>\n",
              "      <th>link</th>\n",
              "    </tr>\n",
              "  </thead>\n",
              "  <tbody>\n",
              "    <tr>\n",
              "      <th>14085</th>\n",
              "      <td>1333</td>\n",
              "      <td>Fushigi na Koala Blinky</td>\n",
              "      <td>One day, Sandy's father, Prof. Brown, sends he...</td>\n",
              "      <td>['Adventure', 'Comedy', 'Kids', 'Fantasy']</td>\n",
              "      <td>Jul 7, 1984 to Dec 28, 1984</td>\n",
              "      <td>26.0</td>\n",
              "      <td>675</td>\n",
              "      <td>10314</td>\n",
              "      <td>6595.0</td>\n",
              "      <td>6.39</td>\n",
              "      <td>https://cdn.myanimelist.net/images/anime/2/432...</td>\n",
              "      <td>https://myanimelist.net/anime/1333/Fushigi_na_...</td>\n",
              "    </tr>\n",
              "  </tbody>\n",
              "</table>\n",
              "</div>"
            ],
            "text/plain": [
              "        uid  ...                                               link\n",
              "14085  1333  ...  https://myanimelist.net/anime/1333/Fushigi_na_...\n",
              "\n",
              "[1 rows x 12 columns]"
            ]
          },
          "metadata": {
            "tags": []
          },
          "execution_count": 2
        }
      ]
    },
    {
      "cell_type": "markdown",
      "metadata": {
        "id": "MBsiEwCyV0Xu"
      },
      "source": [
        "# Eliminar duplicidade de registro"
      ]
    },
    {
      "cell_type": "code",
      "metadata": {
        "id": "l6D2Gbn65yin"
      },
      "source": [
        "df = df[['uid','genre']]\n",
        "df = df.drop_duplicates()\n"
      ],
      "execution_count": 3,
      "outputs": []
    },
    {
      "cell_type": "markdown",
      "metadata": {
        "id": "rKJ1BxeoV8mU"
      },
      "source": [
        "# Manipular banco de dados para criar conexões"
      ]
    },
    {
      "cell_type": "code",
      "metadata": {
        "id": "H3SRDZTB6SK9"
      },
      "source": [
        "data = {'id' :[], 'target': []}\n",
        "range = 0\n",
        "for i in df.values:\n",
        "  range += 1\n",
        "  for j in df[range:].values:\n",
        "    genre_first = eval(i[1])\n",
        "    genre_second = eval(j[1])\n",
        "    if (len(genre_first) > 0 and len(genre_second) > 0):\n",
        "      similaridade = len(set(genre_first) & set(genre_second)) / float(len(set(genre_first) | set(genre_second))) * 100\n",
        "      if(similaridade > 70):\n",
        "        data['id'].append(i[0])\n",
        "        data['target'].append(j[0])\n",
        "\n"
      ],
      "execution_count": 4,
      "outputs": []
    },
    {
      "cell_type": "markdown",
      "metadata": {
        "id": "gVR3LnfQWJFb"
      },
      "source": [
        "# Gerar novo DataFrame com os nós e enlaces"
      ]
    },
    {
      "cell_type": "code",
      "metadata": {
        "id": "y0Q8kUB9KgP0"
      },
      "source": [
        "\n",
        "G = pd.DataFrame (data, columns = ['id','target'])\n",
        "Graph = nx.from_pandas_edgelist(G,source='id',target='target')\n",
        "componentes = sorted(nx.connected_components(Graph), key=len, reverse=True)\n",
        "maior_componente = Graph.subgraph(componentes[0])\n"
      ],
      "execution_count": 5,
      "outputs": []
    },
    {
      "cell_type": "markdown",
      "metadata": {
        "id": "Ch6Kn_NhWYYK"
      },
      "source": [
        "# Obter informações do grafo gerado"
      ]
    },
    {
      "cell_type": "markdown",
      "metadata": {
        "id": "s5og1w8nWl8c"
      },
      "source": [
        "Número de nós:"
      ]
    },
    {
      "cell_type": "code",
      "metadata": {
        "id": "FEo87DSCpe_w",
        "colab": {
          "base_uri": "https://localhost:8080/"
        },
        "outputId": "cc3cf40b-794d-4738-be9a-903d95c16912"
      },
      "source": [
        "numero_nos = maior_componente.number_of_nodes()\n",
        "print('Número de nós: ' + str(numero_nos))"
      ],
      "execution_count": 6,
      "outputs": [
        {
          "output_type": "stream",
          "text": [
            "Número de nós: 7587\n"
          ],
          "name": "stdout"
        }
      ]
    },
    {
      "cell_type": "markdown",
      "metadata": {
        "id": "vbEDK6cXWpCk"
      },
      "source": [
        "Número de enlaces:"
      ]
    },
    {
      "cell_type": "code",
      "metadata": {
        "id": "1do35__oppHh",
        "colab": {
          "base_uri": "https://localhost:8080/"
        },
        "outputId": "ee474c3b-cbeb-44cf-c847-e9ed7228fa89"
      },
      "source": [
        "numero_enlaces = maior_componente.number_of_edges()\n",
        "print('Número de enlaces: ' + str(numero_enlaces))\n"
      ],
      "execution_count": 7,
      "outputs": [
        {
          "output_type": "stream",
          "text": [
            "Número de enlaces: 161684\n"
          ],
          "name": "stdout"
        }
      ]
    },
    {
      "cell_type": "markdown",
      "metadata": {
        "id": "WsrYTQhwz9VN"
      },
      "source": [
        "Sequência do grau"
      ]
    },
    {
      "cell_type": "code",
      "metadata": {
        "id": "fWyhsvASz89L"
      },
      "source": [
        "deg_maior_componente = [d for n,d in nx.degree(maior_componente)]\n",
        "lista_com_ids = [n for n,d in nx.degree(maior_componente)]\n"
      ],
      "execution_count": 8,
      "outputs": []
    },
    {
      "cell_type": "markdown",
      "metadata": {
        "id": "6wUq1b3BWrEj"
      },
      "source": [
        "Grau médio:"
      ]
    },
    {
      "cell_type": "code",
      "metadata": {
        "id": "WMm3Bhp4pwMg",
        "colab": {
          "base_uri": "https://localhost:8080/"
        },
        "outputId": "5c5ee4d2-8663-4a02-c9ed-adeeb2a5be54"
      },
      "source": [
        "grau_medio = np.average([d for n,d in nx.degree(maior_componente)])\n",
        "print('Grau médio: ' + str(grau_medio))"
      ],
      "execution_count": 9,
      "outputs": [
        {
          "output_type": "stream",
          "text": [
            "Grau médio: 42.6213259522868\n"
          ],
          "name": "stdout"
        }
      ]
    },
    {
      "cell_type": "markdown",
      "metadata": {
        "id": "gNmF1qy7MEOJ"
      },
      "source": [
        "Porcentagem dos nós menores que o grau médio( P(di < λ) ):"
      ]
    },
    {
      "cell_type": "code",
      "metadata": {
        "colab": {
          "base_uri": "https://localhost:8080/"
        },
        "id": "GBVge2ZsMEov",
        "outputId": "02338c3c-4583-473c-b2ea-8db1763e1545"
      },
      "source": [
        "quantidade_nos_menor = 0\n",
        "for i in deg_maior_componente:\n",
        "  if i < grau_medio:\n",
        "    quantidade_nos_menor += 1\n",
        "\n",
        "porcentagem_menor = (quantidade_nos_menor * 100)/numero_nos\n",
        "print(\"Porcentagem dos nós menores que o grau médio: \" + str(porcentagem_menor))"
      ],
      "execution_count": 13,
      "outputs": [
        {
          "output_type": "stream",
          "text": [
            "Porcentagem dos nós menores que o grau médio: 66.86437327006722\n"
          ],
          "name": "stdout"
        }
      ]
    },
    {
      "cell_type": "markdown",
      "metadata": {
        "id": "DkuhFs88zv31"
      },
      "source": [
        "Grau do hub:"
      ]
    },
    {
      "cell_type": "code",
      "metadata": {
        "colab": {
          "base_uri": "https://localhost:8080/"
        },
        "id": "gI13v0OizykK",
        "outputId": "17d4ba23-810d-4048-f634-6a5fe3c2e963"
      },
      "source": [
        "hub = np.max(deg_maior_componente)\n",
        "print(\"Hub: \" + str(hub))\n",
        "\n",
        "deg_maior_componente.index(343) #obter indice do maior hub\n",
        "print(\"Id do hub: \" + str(lista_com_ids[1167])) #obter o anime que possui maior grau"
      ],
      "execution_count": null,
      "outputs": [
        {
          "output_type": "stream",
          "text": [
            "Hub: 343\n",
            "Id do hub: 1333\n"
          ],
          "name": "stdout"
        }
      ]
    },
    {
      "cell_type": "markdown",
      "metadata": {
        "id": "3brO_1PnWs6D"
      },
      "source": [
        "Tamanho médio dos caminhos:"
      ]
    },
    {
      "cell_type": "code",
      "metadata": {
        "id": "LUvXRwNzp10r",
        "colab": {
          "base_uri": "https://localhost:8080/"
        },
        "outputId": "ced50a6a-c0d5-41e9-f251-92b216ea5a85"
      },
      "source": [
        "tmc =nx.average_shortest_path_length(maior_componente)\n",
        "print(\"TMC: \" + str(tmc))\n"
      ],
      "execution_count": null,
      "outputs": [
        {
          "output_type": "stream",
          "text": [
            "TMC: 6.996597861849735\n"
          ],
          "name": "stdout"
        }
      ]
    },
    {
      "cell_type": "markdown",
      "metadata": {
        "id": "tYOKOXL2Wu_R"
      },
      "source": [
        "Diâmetro do grafo:"
      ]
    },
    {
      "cell_type": "code",
      "metadata": {
        "id": "j8mOH4dop7fg",
        "colab": {
          "base_uri": "https://localhost:8080/"
        },
        "outputId": "aaf8fab8-ca1f-4f21-b556-89672c804938"
      },
      "source": [
        "diametro = nx.diameter(maior_componente)\n",
        "print(\"Diâmetro do grafo: \" + str(diametro))\n"
      ],
      "execution_count": null,
      "outputs": [
        {
          "output_type": "stream",
          "text": [
            "Diâmetro do grafo: 20\n"
          ],
          "name": "stdout"
        }
      ]
    },
    {
      "cell_type": "markdown",
      "metadata": {
        "id": "DsL1d9abWwzS"
      },
      "source": [
        "Coeficiênte de Aglomeração:"
      ]
    },
    {
      "cell_type": "code",
      "metadata": {
        "id": "CnGj5A_mp_up",
        "colab": {
          "base_uri": "https://localhost:8080/"
        },
        "outputId": "e9921c97-fa6b-4582-e5d8-8455a5df9abc"
      },
      "source": [
        "CC =nx.average_clustering(maior_componente)\n",
        "print(\"CC: \" + str(CC))\n"
      ],
      "execution_count": null,
      "outputs": [
        {
          "output_type": "stream",
          "text": [
            "CC: 0.5869251492204625\n"
          ],
          "name": "stdout"
        }
      ]
    },
    {
      "cell_type": "markdown",
      "metadata": {
        "id": "6pPfA-R3WzDY"
      },
      "source": [
        "Densidade do grafo:"
      ]
    },
    {
      "cell_type": "code",
      "metadata": {
        "id": "Qg0xfyQtqFrg",
        "colab": {
          "base_uri": "https://localhost:8080/"
        },
        "outputId": "9e23d722-2df8-43e4-a537-6cc2d68eca31"
      },
      "source": [
        "densidade = nx.density(maior_componente)\n",
        "print(\"Densidade: \" + str(densidade))\n"
      ],
      "execution_count": null,
      "outputs": [
        {
          "output_type": "stream",
          "text": [
            "Densidade: 0.0056184189233175336\n"
          ],
          "name": "stdout"
        }
      ]
    },
    {
      "cell_type": "markdown",
      "metadata": {
        "id": "_tx5Qg5MQewZ"
      },
      "source": [
        "Eficiência dos enlaces"
      ]
    },
    {
      "cell_type": "code",
      "metadata": {
        "colab": {
          "base_uri": "https://localhost:8080/"
        },
        "id": "QvuHNHDeQfJC",
        "outputId": "b8a976c2-b4c8-4094-a668-7f218311dcb2"
      },
      "source": [
        "Ef = 1 - tmc/numero_enlaces\n",
        "print(\"Eficiência dos enlaces: \"+str(Ef))"
      ],
      "execution_count": null,
      "outputs": [
        {
          "output_type": "stream",
          "text": [
            "Eficiência dos enlaces: 0.9999567267146913\n"
          ],
          "name": "stdout"
        }
      ]
    },
    {
      "cell_type": "markdown",
      "metadata": {
        "id": "H4N3KsZwW1ih"
      },
      "source": [
        "Histograma"
      ]
    },
    {
      "cell_type": "code",
      "metadata": {
        "colab": {
          "base_uri": "https://localhost:8080/",
          "height": 424
        },
        "id": "el3vFlaGcP2p",
        "outputId": "25e0711a-6a7f-4b7d-c71a-daa4da4d0c23"
      },
      "source": [
        "deg_Graph = [d for n,d in nx.degree(maior_componente)]\n",
        "\n",
        "#Frequência do grau \n",
        "h = [ i/Graph.number_of_nodes() for i in nx.degree_histogram(maior_componente) ]\n",
        "print(\"H = \" + str(h))\n",
        "\n",
        "#Entropia \n",
        "I = - np.nansum(h*np.log2(h))\n",
        "print(\"Entropia = \" + str(I))\n",
        "\n",
        "#Histograma\n",
        "plt.hist(deg_maior_componente, weights= np.ones_like(deg_maior_componente) / len(deg_maior_componente))\n",
        "plt.title('Histograma')\n",
        "plt.xlabel('Grau')\n",
        "plt.ylabel('Probabilidade')\n",
        "plt.show()"
      ],
      "execution_count": null,
      "outputs": [
        {
          "output_type": "stream",
          "text": [
            "H = [0.0, 0.011205019848892304, 0.013894224612626457, 0.014726597515687027, 0.01677551543091305, 0.017095658855167114, 0.015943142527852477, 0.012165450121654502, 0.011781278012549622, 0.014278396721731335, 0.012293507491356128, 0.011397105903444744, 0.008643872454859777, 0.010820847739787426, 0.008131642976053273, 0.010628761685234986, 0.006979126648738635, 0.006466897169932129, 0.003969778460750416, 0.007875528236650019, 0.0072992700729927005, 0.010564733000384172, 0.005954667691125624, 0.0032654629273914716, 0.006210782430528877, 0.0045460366244077345, 0.00627481111537969, 0.006787040594186195, 0.005570495582020745, 0.0023690613394800873, 0.0036496350364963502, 0.007747470866948393, 0.004930208733512614, 0.0030093481879882185, 0.003905749775899603, 0.004674093994109361, 0.003201434242540658, 0.002048917915226021, 0.006146753745678064, 0.0028812908182865925, 0.0018568318606735819, 0.0024971187091817133, 0.004353950569855295, 0.004610065309258548, 0.003585606351645537, 0.0009604302727621974, 0.003201434242540658, 0.0030093481879882185, 0.003585606351645537, 0.00384172109104879, 0.003073376872839032, 0.0008964015879113843, 0.0010884876424638239, 0.00384172109104879, 0.0028812908182865925, 0.0025611473940325264, 0.0021769752849276477, 0.0042258932001536685, 0.0021769752849276477, 0.0041618645153028554, 0.0, 0.0009604302727621974, 0.0044179792547061085, 0.0024330900243309003, 0.0017928031758227686, 0.0006402868485081316, 0.0008323729030605712, 0.0012805736970162632, 0.0006402868485081316, 0.0021769752849276477, 0.0010244589576130106, 0.001984889230375208, 0.0017287744909719553, 0.0029453195031374055, 0.0023690613394800873, 0.0024971187091817133, 0.0005762581636573184, 0.00025611473940325265, 6.402868485081316e-05, 0.0017287744909719553, 0.0016647458061211423, 0.001152516327314637, 0.0028172621334357794, 0.00012805736970162632, 0.000768344218209758, 0.0, 0.00012805736970162632, 0.001152516327314637, 0.0018568318606735819, 0.000768344218209758, 0.0006402868485081316, 0.0001920860545524395, 0.0009604302727621974, 0.000768344218209758, 0.000384172109104879, 0.0003201434242540658, 0.005826610321423998, 0.0001920860545524395, 0.0009604302727621974, 0.00012805736970162632, 0.0, 0.0010884876424638239, 0.0007043155333589449, 0.0006402868485081316, 0.0008323729030605712, 0.0017287744909719553, 0.0, 0.0, 0.0033294916122422846, 0.0008964015879113843, 0.0008323729030605712, 0.0, 0.00044820079395569215, 0.0014086310667178897, 0.0, 6.402868485081316e-05, 0.0, 0.0, 0.0024971187091817133, 0.0, 0.00044820079395569215, 0.0, 0.0018568318606735819, 0.0006402868485081316, 0.0001920860545524395, 0.0029453195031374055, 0.00012805736970162632, 0.0, 0.0, 0.0, 0.0, 0.0, 0.0007043155333589449, 0.0003201434242540658, 0.004610065309258548, 0.0, 0.007875528236650019, 0.0, 0.0, 0.0, 0.0, 0.0, 0.0, 0.0, 0.0010884876424638239, 0.0, 0.0, 0.0, 0.0, 0.0012805736970162632, 0.0037136637213471637, 0.0, 0.0, 0.0, 0.0, 0.0010244589576130106, 0.0, 0.0, 0.0, 0.0, 0.0005762581636573184, 0.0, 0.0, 0.0, 0.0, 0.0008964015879113843, 0.0, 0.0, 0.0, 0.0, 0.0010884876424638239, 0.0, 0.002305032654629274, 0.0, 0.0, 0.0, 0.0, 0.0, 0.0, 0.0, 0.004353950569855295, 0.0, 0.0, 0.0, 0.0, 0.0, 0.0, 0.0, 0.0, 0.0, 0.0, 0.0, 0.0, 0.0, 0.0, 0.0, 0.0, 0.0, 0.0, 0.0, 0.0, 0.0, 0.0, 0.0, 0.0, 0.0, 0.0, 0.0, 0.0, 0.0, 0.0, 0.0, 0.0, 0.005570495582020745, 0.0, 0.0014726597515687027, 0.0, 0.0, 0.0, 0.0, 0.0, 0.0, 0.0, 0.0, 0.0, 0.0, 0.0, 0.0, 0.0, 0.0, 0.0, 0.0, 0.0, 0.0, 0.0, 0.0, 0.0, 0.0, 0.0, 0.0, 0.0, 0.0, 0.0, 0.0, 0.0, 0.0, 0.0, 0.0, 0.0, 0.0, 0.0, 0.0, 0.0, 0.0, 0.0, 0.0, 0.0, 0.0, 0.0, 0.0, 0.0, 0.0, 0.0, 0.0, 0.0, 0.0, 0.0, 0.0, 0.0, 0.0, 0.0, 0.0, 0.0, 0.0, 0.0, 0.0, 0.0, 0.0, 0.0, 0.0, 0.0, 0.0, 0.0, 0.0, 0.0, 0.0, 0.0, 0.0, 0.0, 0.0, 0.0, 0.0, 0.0, 0.0, 0.0, 0.0, 0.0, 0.0, 0.0, 0.0, 0.0, 0.0, 0.0, 0.0, 0.0, 0.0, 0.0, 0.0, 0.0, 0.0, 0.0, 0.0, 0.0, 0.0, 0.0, 0.0, 0.0, 0.0, 0.0, 0.0, 0.0, 0.0, 0.0, 0.0, 0.0, 0.0, 0.0, 0.0, 0.0, 0.0, 0.0, 0.0, 0.0, 0.0, 0.0, 0.0, 0.0, 0.0, 0.0, 0.0, 0.0, 0.0, 0.0, 0.0023690613394800873]\n",
            "Entropia = 3.595024753473094\n"
          ],
          "name": "stdout"
        },
        {
          "output_type": "stream",
          "text": [
            "/usr/local/lib/python3.7/dist-packages/ipykernel_launcher.py:8: RuntimeWarning: divide by zero encountered in log2\n",
            "  \n",
            "/usr/local/lib/python3.7/dist-packages/ipykernel_launcher.py:8: RuntimeWarning: invalid value encountered in multiply\n",
            "  \n"
          ],
          "name": "stderr"
        },
        {
          "output_type": "display_data",
          "data": {
            "image/png": "[encoded data removed]",
            "text/plain": [
              "<Figure size 432x288 with 1 Axes>"
            ]
          },
          "metadata": {
            "tags": [],
            "needs_background": "light"
          }
        }
      ]
    }
  ]
}